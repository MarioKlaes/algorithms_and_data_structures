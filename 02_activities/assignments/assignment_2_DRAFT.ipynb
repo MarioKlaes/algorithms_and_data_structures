{
 "cells": [
  {
   "cell_type": "markdown",
   "metadata": {},
   "source": [
    "# Practice Interview\n",
    "\n",
    "## Objective\n",
    "\n",
    "_*The partner assignment aims to provide participants with the opportunity to practice coding in an interview context. You will analyze your partner's Assignment 1. Moreover, code reviews are common practice in a software development team. This assignment should give you a taste of the code review process.*_\n",
    "\n",
    "## Group Size\n",
    "\n",
    "Each group should have 2 people. You will be assigned a partner\n",
    "\n",
    "## Part 1:\n",
    "\n",
    "You and your partner must share each other's Assignment 1 submission."
   ]
  },
  {
   "cell_type": "markdown",
   "metadata": {},
   "source": [
    "\n",
    "## Part 2:\n",
    "\n",
    "Create a Jupyter Notebook, create 6 of the following headings, and complete the following for your partner's assignment 1:\n",
    "\n",
    "-   Paraphrase the problem in your own words.\n"
   ]
  },
  {
   "cell_type": "code",
   "execution_count": null,
   "metadata": {},
   "outputs": [],
   "source": [
    "# Your answer here\n",
    "\n",
    "\"\"\"\n",
    "THE Question One \"Check Duplicates in Tree\" is to check a binary tree, whether it is contains a duplicate value. \n",
    "If a duplicate exists, return the duplicate value. If there are multiple duplicates, return the one with the closest distance \n",
    "to the root. If no duplicate exists, return -1.\n",
    "\n",
    "Trees can have duplicated values. The task is to traverse the tree looking for the diplicated values and their distance from the root.\n",
    "\"\"\""
   ]
  },
  {
   "cell_type": "markdown",
   "metadata": {},
   "source": [
    "\n",
    "-   Create 1 new example that demonstrates you understand the problem. Trace/walkthrough 1 example that your partner made and explain it.\n"
   ]
  },
  {
   "cell_type": "code",
   "execution_count": null,
   "metadata": {},
   "outputs": [],
   "source": [
    "# Your answer here\n",
    "\"\"\" \n",
    "Let the new example be the tree below.\n",
    " \n",
    "                  5\n",
    "               /    \\\n",
    "             10      2\n",
    "            /  \\    / \\\n",
    "           10   4  9   9\n",
    "\n",
    "With the value 5 as the root, the output should be 10, that is the duplicated value closest to the root.\n",
    "\n",
    "\"\"\"\n"
   ]
  },
  {
   "cell_type": "markdown",
   "metadata": {},
   "source": [
    "\n",
    "-   Copy the solution your partner wrote. \n"
   ]
  },
  {
   "cell_type": "code",
   "execution_count": 17,
   "metadata": {},
   "outputs": [
    {
     "name": "stdout",
     "output_type": "stream",
     "text": [
      "10\n"
     ]
    }
   ],
   "source": [
    "# Your answer here\n",
    "\n",
    "from collections import deque\n",
    "class TreeNode(object):\n",
    "     def __init__(self, val = 0, left = None, right = None):\n",
    "         self.val = val\n",
    "         self.left = left\n",
    "         self.right = right\n",
    "\n",
    "def is_duplicate(root: TreeNode) -> int:\n",
    "\n",
    "    if not root:\n",
    "        return -1\n",
    "    queue = deque([(root, 0)])\n",
    "    value_distance = {}\n",
    "    min_distance = float('inf')\n",
    "    result = -1\n",
    "\n",
    "    while queue:\n",
    "        node, distance = queue.popleft()\n",
    "\n",
    "        if node.val in value_distance and distance < min_distance:\n",
    "            min_distance = distance\n",
    "            result = node.val\n",
    "        else:\n",
    "            value_distance[node.val] = distance\n",
    "\n",
    "        if node.left:\n",
    "            queue.append((node.left, distance + 1))\n",
    "        if node.right:\n",
    "            queue.append((node.right, distance + 1))\n",
    "\n",
    "    return result\n",
    "\n",
    "\n",
    "# Building the tree\n",
    "root = TreeNode(5)\n",
    "root.left = TreeNode(10)\n",
    "root.right = TreeNode(2)\n",
    "root.left.left = TreeNode(10)\n",
    "root.right.right = TreeNode(4)\n",
    "root.right.left = TreeNode(9)\n",
    "root.right.right = TreeNode(9)\n",
    "\n",
    "# Calling the function\n",
    "print(is_duplicate(root))"
   ]
  },
  {
   "cell_type": "markdown",
   "metadata": {},
   "source": [
    "\n",
    "-   Explain why their solution works in your own words.\n"
   ]
  },
  {
   "cell_type": "code",
   "execution_count": null,
   "metadata": {},
   "outputs": [],
   "source": [
    "# Your answer here\n",
    "\n",
    "\"\"\"\n",
    "The solution works by using \"deque\", that is a efficient appending and popping from both ends of the queue.\n",
    "\n",
    "The code starts with the variables necessary:\n",
    "- The \"queue\" (class deque) is initialized with the root node obejct and a distance of 0.\n",
    "- The \"value_distance\" is a dictionary to store the distance of each value from the root.\n",
    "- The \"min_distance\" is initialized to infinity (float('inf')) to keep track of the smallest distance of a duplicate value.\n",
    "- The \"result\" is initialized to -1 to store the value of the first duplicate found.\n",
    "\n",
    "This loop processes each node in the queue.\n",
    "\n",
    "    If the node value is already in \"value_distance\" and the current \"distance\" is smaller than \"min_distance\", then it updates \n",
    "    \"min_distance\" and \"result\" with the node value that will be returned. If not, it add a new element to the dictionary \n",
    "    \"value_distance\" using \"node.val\" as index and 'distance\" and the value.\n",
    "\n",
    "    Then the code checks if there are children nodes to traverse appending them to the queue incrementing the distance from the root.\n",
    "\n",
    "Finally, the variable \"result\" will contain the duplicated value that is closest to the root. \n",
    "If there are no duplicated values, the variable will not be updated, therefore it will return the initial value -1.\n",
    "\n",
    "\"\"\""
   ]
  },
  {
   "cell_type": "markdown",
   "metadata": {},
   "source": [
    "\n",
    "-   Explain the problem’s time and space complexity in your own words.\n"
   ]
  },
  {
   "cell_type": "code",
   "execution_count": null,
   "metadata": {},
   "outputs": [],
   "source": [
    "# Your answer here\n",
    "\n",
    "\"\"\"\n",
    "Time Complexity: to identofy duplicated values, the code uses a  breadth-first search (BFS) to traverse the tree. \n",
    "So, it will check each node of the tree looking for duplicates; therefore, the complexity is O(n).\n",
    "\n",
    "Space Complexity: the dictionary will sotre all node values and distances to the root.\n",
    "If all values are uique (worst case), the dictionary will store all \"n\" nodes. Therefore the space complexity is also O(n)\n",
    "\n",
    "\"\"\""
   ]
  },
  {
   "cell_type": "markdown",
   "metadata": {},
   "source": [
    "\n",
    "-   Critique your partner's solution, including explanation, and if there is anything that should be adjusted.\n"
   ]
  },
  {
   "cell_type": "code",
   "execution_count": null,
   "metadata": {},
   "outputs": [],
   "source": [
    "# Your answer here\n",
    "\"\"\"\n",
    "Any solution have positive points and space for improvement.\n",
    "\n",
    "- The Breadth-First Search (BFS) is very efficient for this problem to ensure the proper traverse of the tree.\n",
    "- The dictionary was also a good chice. The operations are efficient with an average time complexity of O(1).\n",
    "\n",
    "As an improvement sugestions:\n",
    "- Add comments to the code will help readability.\n",
    "- Optimize the \"if\" statement inside  the loop checking the \"distance\" only if the \"node.val\" already exists \n",
    "in the dictionary \"value_distance\". This will improve the efficienty in extreme scenarios like no duplicated \n",
    "values in the tree.\n",
    "\n",
    "    if node.val in value_distance:\n",
    "        if distance < min_distance:\n",
    "            min_distance = distance\n",
    "            result = node.val\n",
    "\n",
    "\"\"\""
   ]
  },
  {
   "cell_type": "markdown",
   "metadata": {},
   "source": [
    "\n",
    "## Part 3:\n",
    "\n",
    "Please write a 200 word reflection documenting your process from assignment 1, and your presentation and review experience with your partner at the bottom of the Jupyter Notebook under a new heading \"Reflection.\" Again, export this Notebook as pdf.\n"
   ]
  },
  {
   "cell_type": "markdown",
   "metadata": {},
   "source": [
    "### Reflection"
   ]
  },
  {
   "cell_type": "code",
   "execution_count": null,
   "metadata": {},
   "outputs": [],
   "source": [
    "# Your answer here\n",
    "\n",
    "\"\"\"\n",
    "\n",
    "The Algorithms and Data Structures assignment was exciting.\n",
    "\n",
    "It gave me a good opportunity to check how much I have learned.\n",
    "The structure of Assignment 1 was very interesting. Instead of jumping into the code and going on a loop of trial and error, \n",
    "the assignment walked me through the mental steps necessary to find a solution that works. The step-by-step process of \n",
    "paraphrasing the problem and thinking about other scenarios before jumping into coding significantly reduced the \n",
    "trial-and-error cycle when coding.\n",
    "\n",
    "Reviewing my partner’s code was also very interesting. It helped me understand areas for improvement in my own coding habits. \n",
    "For example, it was challenging to look at the code for the first time without comments. I also had to execute the \n",
    "algorithm step-by-step using a sheet of paper to follow the logic and look for points to improve. I suggested a slight \n",
    "change to the “if” in the loop. This will not change the algorithm's complexity but will improve its efficiency. \n",
    "From now on, I will be more careful with my comments to improve reliability for myself and others. I will also start \n",
    "double-checking if my “if” clauses could be improved by eliminating redundancies.\n",
    "\n",
    "\"\"\""
   ]
  },
  {
   "cell_type": "markdown",
   "metadata": {},
   "source": [
    "\n",
    "## Evaluation Criteria\n",
    "\n",
    "We are looking for the similar points as Assignment 1\n",
    "\n",
    "-   Problem is accurately stated\n",
    "\n",
    "-   New example is correct and easily understandable\n",
    "\n",
    "-   Correctness, time, and space complexity of the coding solution\n",
    "\n",
    "-   Clarity in explaining why the solution works, its time and space complexity\n",
    "\n",
    "-   Quality of critique of your partner's assignment, if necessary\n"
   ]
  },
  {
   "cell_type": "markdown",
   "metadata": {},
   "source": [
    "## Submission Information\n",
    "\n",
    "🚨 **Please review our [Assignment Submission Guide](https://github.com/UofT-DSI/onboarding/blob/main/onboarding_documents/submissions.md)** 🚨 for detailed instructions on how to format, branch, and submit your work. Following these guidelines is crucial for your submissions to be evaluated correctly.\n",
    "\n",
    "### Submission Parameters:\n",
    "* Submission Due Date: `23:59 PM - 24/07/2024`\n",
    "* The branch name for your repo should be: `assignment-2`\n",
    "* What to submit for this assignment:\n",
    "    * This Jupyter Notebook (assignment_2.ipynb) should be populated and should be the only change in your pull request.\n",
    "* What the pull request link should look like for this assignment: `https://github.com/<your_github_username>/algorithms_and_data_structures/pull/<pr_id>`\n",
    "    * Open a private window in your browser. Copy and paste the link to your pull request into the address bar. Make sure you can see your pull request properly. This helps the technical facilitator and learning support staff review your submission easily.\n",
    "\n",
    "Checklist:\n",
    "- [X] Created a branch with the correct naming convention.\n",
    "- [X] Ensured that the repository is public.\n",
    "- [X] Reviewed the PR description guidelines and adhered to them.\n",
    "- [X] Verify that the link is accessible in a private browser window.\n",
    "\n",
    "If you encounter any difficulties or have questions, please don't hesitate to reach out to our team via our Slack at `#cohort-3-help`. Our Technical Facilitators and Learning Support staff are here to help you navigate any challenges.\n"
   ]
  }
 ],
 "metadata": {
  "kernelspec": {
   "display_name": "scale2prod",
   "language": "python",
   "name": "python3"
  },
  "language_info": {
   "codemirror_mode": {
    "name": "ipython",
    "version": 3
   },
   "file_extension": ".py",
   "mimetype": "text/x-python",
   "name": "python",
   "nbconvert_exporter": "python",
   "pygments_lexer": "ipython3",
   "version": "3.9.15"
  }
 },
 "nbformat": 4,
 "nbformat_minor": 2
}
