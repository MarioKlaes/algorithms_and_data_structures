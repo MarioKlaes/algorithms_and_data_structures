{
 "cells": [
  {
   "cell_type": "markdown",
   "metadata": {},
   "source": [
    "# Coding Problems\n",
    "\n",
    "## Objective\n",
    "\n",
    "This assignment aims to demonstrate how to study a data structures or algorithms question in depth to prepare for an industry coding interview. Leetcode is a popular coding practice site that many use to practice for technical interviews. Like behavioral interviews, it's important to practice and keep your skills sharp.\n",
    "\n",
    "## Group Size\n",
    "\n",
    "Please complete this individually.\n",
    "\n",
    "## Part 1:\n",
    "\n",
    "_*You will be assigned one of three problems based of your first name. Execute the code below, and that will tell you your assigned problem. Include the output as part of your submission (do not clear the output). The problems are based-off problems from Leetcode.*_\n"
   ]
  },
  {
   "cell_type": "code",
   "execution_count": 1,
   "metadata": {},
   "outputs": [
    {
     "name": "stdout",
     "output_type": "stream",
     "text": [
      "2\n"
     ]
    }
   ],
   "source": [
    "print((hash('Mario') % 3) + 1)"
   ]
  },
  {
   "cell_type": "markdown",
   "metadata": {},
   "source": [
    "<details>\n",
    "  <summary>Question 1</summary>\n",
    "\n",
    "  # Question One: Check Duplicates in Tree\n",
    "\n",
    "  Given the `root` of a binary tree, check whether it is contains a duplicate value. If a duplicate exists, return the duplicate value. If there are multiple duplicates, return the one with the closest distance to the root. If no duplicate exists, return -1.\n",
    "\n",
    "  ## Examples\n",
    "\n",
    "  ### Example 1\n",
    "\n",
    "  ![](./images/q1_ex1.png)\n",
    "\n",
    "  Input: `root = [1, 2, 2, 3, 5, 6, 7]` *What traversal method is this?*\n",
    "\n",
    "  Output: 2\n",
    "\n",
    "  ### Example 2\n",
    "\n",
    "  ![](./images/q1_ex2.png)\n",
    "\n",
    "  Input: `root = [1, 10, 2, 3, 10, 12, 12]`\n",
    "\n",
    "  Output: 10\n",
    "\n",
    "  ### Example 3\n",
    "\n",
    "  ![](./images/q1_ex3.png)\n",
    "\n",
    "  Input: `root = [10, 9, 8, 7]`\n",
    "\n",
    "  Output: -1\n",
    "\n",
    "</details>\n",
    "\n",
    "#### Starter Code for Question 1"
   ]
  },
  {
   "cell_type": "code",
   "execution_count": 22,
   "metadata": {},
   "outputs": [
    {
     "name": "stdout",
     "output_type": "stream",
     "text": [
      "If hight >= 2 then  it is not symetric. Hight =  0\n"
     ]
    }
   ],
   "source": [
    "##########################################################################\n",
    "# Assignment is question 2 ... but I implemented Question 1 for fun\n",
    "##########################################################################\n",
    "\n",
    "# Definition for a binary tree node.\n",
    "class TreeNode(object):\n",
    "  def __init__(self, val = 0, left = None, right = None):\n",
    "    self.val = val\n",
    "    self.left = left\n",
    "    self.right = right\n",
    "\n",
    "root = TreeNode(val = 1)\n",
    "root.left = TreeNode(val = 2)\n",
    "root.right = TreeNode(val = 2)\n",
    "root.left.left = TreeNode(val = 3)\n",
    "root.left.right = TreeNode(val = 5)\n",
    "root.right.left = TreeNode(val = 6)\n",
    "root.right.right = TreeNode(val = 7)\n",
    "\n",
    "def is_symmetric(root: TreeNode) -> int:\n",
    "  # TODO\n",
    "  left=0\n",
    "  right=0\n",
    "  if not root:\n",
    "    return -1 # tree with zero nodes\n",
    "\n",
    "  if root.left:\n",
    "    left = is_symmetric(root.left)\n",
    "    left += 1\n",
    "\n",
    "  if root.right:\n",
    "    right = is_symmetric(root.right)\n",
    "    right += 1\n",
    "      \n",
    "  if not root.right and not root.left:\n",
    "    return 1\n",
    "  \n",
    "  return (left - right)\n",
    "\n",
    "\n",
    "x = is_symmetric(root)\n",
    "print (\"If hight >= 2 then  it is not symetric. Hight = \",x)\n"
   ]
  },
  {
   "cell_type": "markdown",
   "metadata": {},
   "source": [
    "<details>\n",
    "  <summary>Question 2</summary>\n",
    "\n",
    "  # Question Two: Path to Leaves\n",
    "\n",
    "  Given the `root` of a binary tree, return all root to leaf paths in any order.\n",
    "\n",
    "  ## Examples\n",
    "\n",
    "  ### Example 1\n",
    "\n",
    "  ![](./images/q1_ex1.png)\n",
    "\n",
    "  Input: `root = [1, 2, 2, 3, 5, 6, 7]` *What traversal method is this?*\n",
    "\n",
    "  Output: [[1, 2, 3], [1, 2, 5], [1, 2, 6], [1, 2, 7]]\n",
    "\n",
    "  ### Example 2\n",
    "\n",
    "  ![](./images/q1_ex3.png)\n",
    "\n",
    "  Input: `root = [10, 9, 8, 7]`\n",
    "\n",
    "  Output: [[10, 7], [10, 9, 8]]\n",
    "\n",
    "</details>\n",
    "\n",
    "#### Starter Code for Question 2"
   ]
  },
  {
   "cell_type": "code",
   "execution_count": 77,
   "metadata": {},
   "outputs": [
    {
     "name": "stdout",
     "output_type": "stream",
     "text": [
      "final list of all paths: [[1, 2, 3], [1, 2, 5], [1, 2, 6], [1, 2, 7]]\n"
     ]
    }
   ],
   "source": [
    "# Definition for a binary tree node.\n",
    "class TreeNode(object):\n",
    "     def __init__(self, val = 0, left = None, right = None):\n",
    "         self.val = val\n",
    "         self.left = left\n",
    "         self.right = right\n",
    "\n",
    "root = TreeNode(val = 1)\n",
    "root.left = TreeNode(val = 2)\n",
    "root.right = TreeNode(val = 2)\n",
    "root.left.left = TreeNode(val = 3)\n",
    "root.left.right = TreeNode(val = 5)\n",
    "root.right.left = TreeNode(val = 6)\n",
    "root.right.right = TreeNode(val = 7)\n",
    "\n",
    "# preorder traversal\n",
    "\n",
    "def bt_path(root: TreeNode) -> list[list[int]]:\n",
    "   # TODO\n",
    "\n",
    "   def dfs (node:TreeNode, path, allpaths):\n",
    "\n",
    "      if node:\n",
    "         path.append(node.val)\n",
    "         # remove the comments to see what is happening on each recursive call\n",
    "         #print (\"node\",node.val)\n",
    "         #print (\"path:\",path)\n",
    "         #print (\"all paths:\",allpaths)\n",
    "\n",
    "      if node.left:\n",
    "         dfs(node.left, path, allpaths)\n",
    "         path.pop() #remove the leaf number\n",
    "\n",
    "      if node.right:\n",
    "         dfs(node.right, path, allpaths)\n",
    "         path.pop() #remove the leaf number\n",
    "      \n",
    "      if not node.right and not node.left:\n",
    "         allpaths.append (path[:])\n",
    "         \n",
    "      return allpaths\n",
    "   \n",
    "   path=[]\n",
    "   allpaths=[]\n",
    "   path = dfs (root, path, allpaths)\n",
    "\n",
    "   return allpaths\n",
    "\n",
    "\n",
    "btree_paths = []\n",
    "btree_paths = bt_path(root)\n",
    "print (\"final list of all paths:\", btree_paths)\n"
   ]
  },
  {
   "cell_type": "markdown",
   "metadata": {},
   "source": [
    "<details>\n",
    "  <summary>Question 3</summary>\n",
    "\n",
    "  # Question Three: Missing Number in Range\n",
    " \n",
    "  You are given a list containing `n` integers in the range `[0, n]`. Return a list of numbers that are missing from the range `[0, n]` of the array. If there is no missing number, return -1. Note, all the integers in the list may not be unique.\n",
    "  \n",
    "  ## Examples\n",
    "\n",
    "  ### Example 1\n",
    "\n",
    "  Input: `lst = [0, 2]`\n",
    "\n",
    "  Output: [1]\n",
    "\n",
    "  ### Example 2\n",
    "\n",
    "  Input: `lst = [5, 0, 1]`\n",
    "\n",
    "  Output: [2, 3, 4]\n",
    "\n",
    "  ### Example 3\n",
    "\n",
    "  Input: `lst = [6, 8, 2, 3, 5, 7, 0, 1, 10]`\n",
    "\n",
    "  Output: [4, 9]\n",
    "\n",
    "</details>\n",
    "\n",
    "#### Starter Code for Question 3\n"
   ]
  },
  {
   "cell_type": "code",
   "execution_count": 72,
   "metadata": {},
   "outputs": [
    {
     "name": "stdout",
     "output_type": "stream",
     "text": [
      "All numbers between -1 and max(nums): [-1, 0, 1, 2, 3, 4, 5, 6, 7, 8, 9, 10]\n",
      "Missing numbers: [4, 5, 6, 7, 8, 9]\n",
      "----------------------------------------------------------\n",
      "the missing numbers are: [4, 5, 6, 7, 8, 9]\n"
     ]
    }
   ],
   "source": [
    "################################################\n",
    "# Implementation using hash/dictionary\n",
    "################################################\n",
    "def missing_num(nums: list) -> list:\n",
    "\n",
    "    missing_numbers = [-1]\n",
    "\n",
    "    # build a list of all numbers between 0 and the biggest number in nums\n",
    "    for n in nums:\n",
    "        if n > missing_numbers[ len(missing_numbers)-1]:\n",
    "            for i in range(missing_numbers[len(missing_numbers)-1]+1, n+1):\n",
    "                missing_numbers.append(i)\n",
    "\n",
    "    print (\"All numbers between -1 and max(nums):\", missing_numbers)\n",
    "    for n in nums:\n",
    "        for i in range( 0 , missing_numbers.count(n)):\n",
    "            missing_numbers.remove(n)\n",
    "            \n",
    "    if len(missing_numbers) > 1:\n",
    "        missing_numbers.remove(-1)\n",
    "    \n",
    "    print (\"Missing numbers:\", missing_numbers)\n",
    "    return (missing_numbers)\n",
    "\n",
    "\n",
    "lst = [0,1,10,3,2]\n",
    "missing = missing_num(lst)\n",
    "print (\"----------------------------------------------------------\")\n",
    "print (\"the missing numbers are:\" , missing)"
   ]
  },
  {
   "cell_type": "code",
   "execution_count": 73,
   "metadata": {},
   "outputs": [
    {
     "name": "stdout",
     "output_type": "stream",
     "text": [
      "missing_nums: {1: 0, 10: 0, 3: 0, 2: 0}\n",
      "add: 0\n",
      "pop: 1\n",
      "pop: 2\n",
      "pop: 3\n",
      "add: 4\n",
      "add: 5\n",
      "add: 6\n",
      "add: 7\n",
      "add: 8\n",
      "add: 9\n",
      "pop: 10\n",
      "the missing numbers are: dict_keys([0, 4, 5, 6, 7, 8, 9])\n"
     ]
    }
   ],
   "source": [
    "################################################\n",
    "# Implementation using hash/dictionary\n",
    "################################################\n",
    "def missing_num(nums: list) -> list:\n",
    "\n",
    "    missing_nums = {}\n",
    "    max_n = 0\n",
    "    for n in nums: #conver list into dict and find the max value in the list\n",
    "        missing_nums.update({ n : 0 })\n",
    "        if max_n <= n:\n",
    "            max_n = n\n",
    "    print (\"missing_nums:\", missing_nums)\n",
    "\n",
    "    for n in range ( 0 , max_n + 1):\n",
    "        if missing_nums.get(n,\"not found\") == \"not found\":\n",
    "            missing_nums.update({ n: 0})\n",
    "            print (\"add:\",n)\n",
    "        else:\n",
    "            missing_nums.pop(n)\n",
    "            print (\"pop:\",n)\n",
    "\n",
    "    return missing_nums.keys()\n",
    "\n",
    "lst = [1,10,3,2]\n",
    "missing = missing_num(lst)\n",
    "print (\"the missing numbers are:\" , missing)"
   ]
  },
  {
   "cell_type": "markdown",
   "metadata": {},
   "source": [
    "\n",
    "## Part 2:\n",
    "\n",
    "-   Paraphrase the problem in your own words"
   ]
  },
  {
   "cell_type": "code",
   "execution_count": null,
   "metadata": {},
   "outputs": [],
   "source": [
    "# Your answer here\n",
    "\n",
    "# Starting from  the `root` of a binary tree, list all root-to-leaf paths in any order."
   ]
  },
  {
   "cell_type": "markdown",
   "metadata": {},
   "source": [
    "\n",
    "-   In the .md file containing your problem, there are examples that illustrate how the code should work. Create 2 new examples that demonstrate you understand the problem.\n"
   ]
  },
  {
   "cell_type": "markdown",
   "metadata": {},
   "source": [
    "  ### Example 1\n",
    "\n",
    "  ![](./images/example_1.png)\n",
    "  \n",
    "  Output = [[1, 2], [1, 2, 4], [1, 2, 7, 9], [1, 2, 7, 8]]"
   ]
  },
  {
   "cell_type": "code",
   "execution_count": 112,
   "metadata": {},
   "outputs": [
    {
     "name": "stdout",
     "output_type": "stream",
     "text": [
      "final list of all paths: [[1, 2], [1, 2, 4], [1, 2, 7, 9], [1, 2, 7, 8]]\n"
     ]
    }
   ],
   "source": [
    "# Example 1\n",
    "\n",
    "root = TreeNode(val = 1)\n",
    "root.left = TreeNode(val = 2)\n",
    "root.right = TreeNode(val = 2)\n",
    "root.right.left = TreeNode(val = 4)\n",
    "root.right.right = TreeNode(val = 7)\n",
    "root.right.right.left = TreeNode(val = 9)\n",
    "root.right.right.right = TreeNode(val = 8)\n",
    "\n",
    "\n",
    "btree_paths = []\n",
    "btree_paths = bt_path(root)\n",
    "print (\"final list of all paths:\", btree_paths)"
   ]
  },
  {
   "cell_type": "markdown",
   "metadata": {},
   "source": [
    "  ### Example 2\n",
    "\n",
    "   ![](./images/example_2.png)\n",
    "\n",
    "   Output = [[1, 2, 9, 8], [1, 2, 4], [1, 2, 7]]"
   ]
  },
  {
   "cell_type": "code",
   "execution_count": 113,
   "metadata": {},
   "outputs": [
    {
     "name": "stdout",
     "output_type": "stream",
     "text": [
      "final list of all paths: [[1, 2, 9, 8], [1, 2, 4], [1, 2, 7]]\n"
     ]
    }
   ],
   "source": [
    "# Example 2\n",
    "\n",
    "root = TreeNode(val = 1)\n",
    "root.left = TreeNode(val = 2)\n",
    "root.right = TreeNode(val = 2)\n",
    "root.left.left = TreeNode(val = 9)\n",
    "root.left.left.right = TreeNode(val = 8)\n",
    "\n",
    "root.right.left = TreeNode(val = 4)\n",
    "root.right.right = TreeNode(val = 7)\n",
    "\n",
    "btree_paths = []\n",
    "btree_paths = bt_path(root)\n",
    "print (\"final list of all paths:\", btree_paths)"
   ]
  },
  {
   "cell_type": "markdown",
   "metadata": {},
   "source": [
    "\n",
    "-   Code the solution to your assigned problem in Python (code chunk). Try to find the best time and space complexity solution!\n"
   ]
  },
  {
   "cell_type": "code",
   "execution_count": 79,
   "metadata": {},
   "outputs": [
    {
     "name": "stdout",
     "output_type": "stream",
     "text": [
      "node 1\n",
      "path: [1]\n",
      "all paths: []\n",
      "node 2\n",
      "path: [1, 2]\n",
      "all paths: []\n",
      "node 3\n",
      "path: [1, 2, 3]\n",
      "all paths: []\n",
      "node 5\n",
      "path: [1, 2, 5]\n",
      "all paths: [[1, 2, 3]]\n",
      "node 2\n",
      "path: [1, 2]\n",
      "all paths: [[1, 2, 3], [1, 2, 5]]\n",
      "node 6\n",
      "path: [1, 2, 6]\n",
      "all paths: [[1, 2, 3], [1, 2, 5]]\n",
      "node 7\n",
      "path: [1, 2, 7]\n",
      "all paths: [[1, 2, 3], [1, 2, 5], [1, 2, 6]]\n",
      "final list of all paths: [[1, 2, 3], [1, 2, 5], [1, 2, 6], [1, 2, 7]]\n"
     ]
    }
   ],
   "source": [
    "# Your answer here\n",
    "# Definition for a binary tree node.\n",
    "\n",
    "root = TreeNode(val = 1)\n",
    "root.left = TreeNode(val = 2)\n",
    "root.right = TreeNode(val = 2)\n",
    "root.left.left = TreeNode(val = 3)\n",
    "root.left.right = TreeNode(val = 5)\n",
    "root.right.left = TreeNode(val = 6)\n",
    "root.right.right = TreeNode(val = 7)\n",
    "\n",
    "# preorder traversal\n",
    "def bt_path(root: TreeNode) -> list[list[int]]:\n",
    "   # TODO\n",
    "\n",
    "   def dfs (node:TreeNode, path, allpaths):\n",
    "\n",
    "      if node:\n",
    "         path.append(node.val)\n",
    "         # remove the comments to see what is happening on each recursive call\n",
    "         print (\"node\",node.val)\n",
    "         print (\"path:\",path)\n",
    "         print (\"all paths:\",allpaths)\n",
    "\n",
    "      if node.left:\n",
    "         dfs(node.left, path, allpaths)\n",
    "         path.pop() #remove the leaf number\n",
    "\n",
    "      if node.right:\n",
    "         dfs(node.right, path, allpaths)\n",
    "         path.pop() #remove the leaf number\n",
    "      \n",
    "      if not node.right and not node.left:\n",
    "         allpaths.append (path[:])\n",
    "         \n",
    "      return allpaths\n",
    "   \n",
    "   path=[]\n",
    "   allpaths=[]\n",
    "   path = dfs (root, path, allpaths)\n",
    "\n",
    "   return allpaths\n",
    "\n",
    "\n",
    "btree_paths = []\n",
    "btree_paths = bt_path(root)\n",
    "print (\"final list of all paths:\", btree_paths)"
   ]
  },
  {
   "cell_type": "markdown",
   "metadata": {},
   "source": [
    "\n",
    "-   Explain why your solution works\n"
   ]
  },
  {
   "cell_type": "code",
   "execution_count": null,
   "metadata": {},
   "outputs": [],
   "source": [
    "# Your answer here\n",
    "\n",
    "# my solution trasverse the whole tree saving each different path from root to leaf"
   ]
  },
  {
   "cell_type": "markdown",
   "metadata": {},
   "source": [
    "\n",
    "-   Explain the problem’s and space complexity\n"
   ]
  },
  {
   "cell_type": "code",
   "execution_count": null,
   "metadata": {},
   "outputs": [],
   "source": [
    "# Your answer here\n",
    "\n",
    "#########################\n",
    "# The Problem\n",
    "#########################\n",
    "# The problem require visiting all nodes in the tree to map their paths.\n",
    " \n",
    "##########################\n",
    "# Time Complexity\n",
    "##########################\n",
    "# To map all paths from Root-to-Leaf the algoritm has to visit all nodes once, therefore, the time complexity in O(n)\n",
    "\n",
    "##########################\n",
    "# Space complexity\n",
    "##########################\n",
    "# The space complexity will depend on the binary tree configuration.\n",
    "#\n",
    "# In a balanced binary tree:\n",
    "#  - Since the algoritm splits the problem in 2 (calls to left then right) the space complexity whould be O (log n)\n",
    "#\n",
    "# If the binary tree is not balanced to the extreme (tree hight = number of nodes):\n",
    "#  - The benefit of the algoritm to split the problem will not happen; therefore, the space complexity whould be O(n)\n",
    "#"
   ]
  },
  {
   "cell_type": "markdown",
   "metadata": {},
   "source": [
    "\n",
    "-   Explain the thinking to an alternative solution (no coding required, but a classmate reading this should be able to code it up based off your text)\n"
   ]
  },
  {
   "cell_type": "code",
   "execution_count": 80,
   "metadata": {},
   "outputs": [
    {
     "name": "stdout",
     "output_type": "stream",
     "text": [
      "Expected output: [[1, 2, 3], [1, 2, 5], [1, 2, 6], [1, 2, 7]]\n",
      "list_of_paths: [[1, 2, 7], [1, 2, 6], [1, 2, 5], [1, 2, 3]]\n"
     ]
    }
   ],
   "source": [
    "# Your answer here\n",
    "# Alternative solution: Non-Recursive\n",
    "# Use a stack Last_In-First-Out to navigaste the nodes back\n",
    "\n",
    "# Definition for a binary tree node.\n",
    "class TreeNode(object):\n",
    "     def __init__(self, val = 0, left = None, right = None):\n",
    "         self.val = val\n",
    "         self.left = left\n",
    "         self.right = right\n",
    "\n",
    "root = TreeNode(val = 1)\n",
    "root.left = TreeNode(val = 2)\n",
    "root.right = TreeNode(val = 2)\n",
    "root.left.left = TreeNode(val = 3)\n",
    "root.left.right = TreeNode(val = 5)\n",
    "root.right.left = TreeNode(val = 6)\n",
    "root.right.right = TreeNode(val = 7)\n",
    "\n",
    "# preorder traversal\n",
    "\n",
    "def map_all_paths(root):\n",
    "    if not root:\n",
    "        return []\n",
    "\n",
    "    # Initialize a stack (or queue) to store nodes and their paths\n",
    "    stack = [(root, [root.val])]\n",
    "    list_of_paths = []\n",
    "\n",
    "    while stack:\n",
    "        node, path = stack.pop()\n",
    "\n",
    "        if not node.left and not node.right:\n",
    "            # If it's a leaf node, add the path to the result\n",
    "            list_of_paths.append(path)\n",
    "        else:\n",
    "            # Otherwise, continue traversing left and right\n",
    "            if node.left:\n",
    "                stack.append((node.left, path + [node.left.val]))\n",
    "            if node.right:\n",
    "                stack.append((node.right, path + [node.right.val]))\n",
    "    return list_of_paths\n",
    "\n",
    "list_of_paths = map_all_paths(root)\n",
    "print (\"Expected output: [[1, 2, 3], [1, 2, 5], [1, 2, 6], [1, 2, 7]]\")\n",
    "print (\"list_of_paths:\" , list_of_paths)\n"
   ]
  },
  {
   "cell_type": "markdown",
   "metadata": {},
   "source": [
    "## Evaluation Criteria\n",
    "\n",
    "-   Problem is accurately stated\n",
    "\n",
    "-   Two examples are correct and easily understandable\n",
    "\n",
    "-   Correctness, time, and space complexity of the coding solution\n",
    "\n",
    "-   Clarity in explaining why the solution works, its time and space complexity\n",
    "\n",
    "-   Clarity in the proposal to the alternative solution"
   ]
  },
  {
   "cell_type": "markdown",
   "metadata": {},
   "source": [
    "## Submission Information\n",
    "\n",
    "🚨 **Please review our [Assignment Submission Guide](https://github.com/UofT-DSI/onboarding/blob/main/onboarding_documents/submissions.md)** 🚨 for detailed instructions on how to format, branch, and submit your work. Following these guidelines is crucial for your submissions to be evaluated correctly.\n",
    "\n",
    "### Submission Parameters:\n",
    "* Submission Due Date: `23:59 PM - 19/07/2024`\n",
    "* The branch name for your repo should be: `assignment-1`\n",
    "* What to submit for this assignment:\n",
    "    * This Jupyter Notebook (assignment_1.ipynb) should be populated and should be the only change in your pull request.\n",
    "* What the pull request link should look like for this assignment: `https://github.com/<your_github_username>/algorithms_and_data_structures/pull/<pr_id>`\n",
    "    * Open a private window in your browser. Copy and paste the link to your pull request into the address bar. Make sure you can see your pull request properly. This helps the technical facilitator and learning support staff review your submission easily.\n",
    "\n",
    "Checklist:\n",
    "- [X] Create a branch called `assignment-1`.\n",
    "- [X] Ensure that the repository is public.\n",
    "- [X] Review [the PR description guidelines](https://github.com/UofT-DSI/onboarding/blob/main/onboarding_documents/submissions.md#guidelines-for-pull-request-descriptions) and adhere to them.\n",
    "- [X] Verify that the link is accessible in a private browser window.\n",
    "\n",
    "If you encounter any difficulties or have questions, please don't hesitate to reach out to our team via our Slack at `#cohort-3-help`. Our Technical Facilitators and Learning Support staff are here to help you navigate any challenges."
   ]
  }
 ],
 "metadata": {
  "kernelspec": {
   "display_name": "Python 3",
   "language": "python",
   "name": "python3"
  },
  "language_info": {
   "codemirror_mode": {
    "name": "ipython",
    "version": 3
   },
   "file_extension": ".py",
   "mimetype": "text/x-python",
   "name": "python",
   "nbconvert_exporter": "python",
   "pygments_lexer": "ipython3",
   "version": "3.9.15"
  }
 },
 "nbformat": 4,
 "nbformat_minor": 2
}
