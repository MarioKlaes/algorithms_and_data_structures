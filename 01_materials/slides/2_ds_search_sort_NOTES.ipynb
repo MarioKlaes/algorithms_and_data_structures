{
  "cells": [
    {
      "cell_type": "markdown",
      "id": "8837c9a6-8a69-4356-be21-9298c4317339",
      "metadata": {},
      "source": [
        "# Array-Based Data Structures, Searching, and Sorting\n",
        "\n",
        "## Outline\n",
        "\n",
        "-   Array Based Data Structures\n",
        "\n",
        "    -   Stack, queue, Python List\n",
        "\n",
        "-   Searching\n",
        "\n",
        "    -   Linear, Binary Search\n",
        "\n",
        "-   Sorting\n",
        "\n",
        "    -   Selection, Insertion Sort\n",
        "\n",
        "-   Hash map, hash table (Python dictionary), hash functions\n",
        "\n",
        "# Array Based Data Structures\n",
        "\n",
        "## Abstract Data Types Versus Data Structure\n",
        "\n",
        "-   Some concepts are generally useful and transcend any programming\n",
        "    language\n",
        "\n",
        "-   An **abstract data type** (ADT) defines some kind of data and\n",
        "    operations that can be performed on it\n",
        "\n",
        "    -   Abstract because there is no mention of *how* data is stored or\n",
        "        *how* the operations work\n",
        "\n",
        "    -   Concerned about “what”\n",
        "\n",
        "-   A **data structure** is a concrete method of storing data (and\n",
        "    therefore its operations).\n",
        "\n",
        "    -   For instance, Python List is a data structure because it has a\n",
        "        specific implementation.\n",
        "\n",
        "-   ADTs form a common vocabulary for computer scientists to discuss\n",
        "    problems. It allows us to focus on the design and worry about\n",
        "    implementation later.\n",
        "\n",
        "## Important ADTs\n",
        "\n",
        "-   Set\n",
        "\n",
        "    -   Data: a collection of unique elements\n",
        "\n",
        "    -   Operations: get size, insert a value (without introducing\n",
        "        duplicates), remove a specified value, check membership\n",
        "\n",
        "-   List\n",
        "\n",
        "    -   Data: an ordered sequence of elements\n",
        "\n",
        "    -   Operations: access element by index, insert a value at a given\n",
        "        index, remove a value at a given index\n",
        "\n",
        "## Important ADTs [1]\n",
        "\n",
        "-   Map\n",
        "\n",
        "    -   Data: a collection of key-value pairs, where each key is unique\n",
        "        and associated with a single value\n",
        "\n",
        "    -   Operations: look-up a value for a given key, insert a new\n",
        "        key-value pair, remove a key-value pair, update the value\n",
        "        associated with a given key\n",
        "\n",
        "-   Iterable\n",
        "\n",
        "    -   Data: a collection of values (may or may not be unique)\n",
        "\n",
        "    -   Operations: iterate through the elements of the collection one\n",
        "        at a time.\n",
        "\n",
        "## Relation between ADTs and Data Structures\n",
        "\n",
        "-   A Python `list` is not a ADT. But it is a natural implementation of\n",
        "    the List ADT.\n",
        "\n",
        "    -   The designers of Python implemented `list` operations\n",
        "\n",
        "-   A single ADT can be implemented by many data structures\n",
        "\n",
        "    -   You could implement List ADT using a Python `dict`\n",
        "\n",
        "    -   We can store the list `[\"DS\", 4, \"Life\"]` like this:\n",
        "        `{0: \"DS\", 1: 4, 2: \"Life\"}`\n",
        "\n",
        "-   A data structure can implement many ADTs\n",
        "\n",
        "    -   Practice: how can you implement a set with a Python `list`?\n",
        "\n",
        "## Python Lists\n",
        "\n",
        "-   Each element has an address in memory. The addresses are ordered by\n",
        "    index number and adjacent to each other.\n",
        "\n",
        "-   Run time for `append` method\n",
        "\n",
        "    -   A new address is created and placed at the end of the list\n",
        "\n",
        "    -   $O(1)$ time because it doesn’t matter how long the list is\n",
        "\n",
        "-   Run time for `insert` method\n",
        "\n",
        "    -   The worst case occurs when you insert at the beginning of the\n",
        "        list because each element in the list has to be shifted down by\n",
        "        1.\n",
        "\n",
        "    -   $O(n)$ time\n",
        "\n",
        "-   Run time for `delete` method\n",
        "\n",
        "    -   If you remove the first element, all other elements must be\n",
        "        shifted up by one.\n",
        "\n",
        "    -   $O(n)$ time\n",
        "\n",
        "## Stack\n",
        "\n",
        "-   A stack contains zero or more items\n",
        "\n",
        "    -   Items are added at the top of the stack, called *pushing*\n",
        "\n",
        "    -   Items are removed from the top of the stack, called *popping*\n",
        "\n",
        "-   The first item added to the stack is the last item removed\n",
        "\n",
        "    -   We call this “first-in-last-out” (FILO) behavior is like a line\n",
        "    -   Last-In-First-Out (LIFO) is like a pile\n",
        "\n",
        "-   2 minutes: is it faster to use the front or back of a Python list to\n",
        "    implement a stack? What is the Big-O for stack operations under each\n",
        "    choice?\n"
      ]
    },
    {
      "cell_type": "code",
      "execution_count": 27,
      "id": "bd1330ef",
      "metadata": {},
      "outputs": [],
      "source": [
        "l = []\n",
        "\n",
        "# front of the list\n",
        "def push(l , v):\n",
        "    l.append(v)\n",
        "\n",
        "def pop (l , v):\n",
        "        l.pop()"
      ]
    },
    {
      "cell_type": "code",
      "execution_count": 28,
      "id": "e74fda29",
      "metadata": {},
      "outputs": [
        {
          "data": {
            "text/plain": [
              "[6, 5]"
            ]
          },
          "execution_count": 28,
          "metadata": {},
          "output_type": "execute_result"
        }
      ],
      "source": [
        "push (l ,6)\n",
        "push (l , 5)\n",
        "l"
      ]
    },
    {
      "cell_type": "code",
      "execution_count": 29,
      "id": "f4b7b464",
      "metadata": {},
      "outputs": [
        {
          "data": {
            "text/plain": [
              "[6]"
            ]
          },
          "execution_count": 29,
          "metadata": {},
          "output_type": "execute_result"
        }
      ],
      "source": [
        "pop (l, 6)\n",
        "\n",
        "l"
      ]
    },
    {
      "cell_type": "code",
      "execution_count": 34,
      "id": "843fc03b",
      "metadata": {},
      "outputs": [],
      "source": [
        "l = []\n",
        "# front of the list\n",
        "def push(l , v):\n",
        "    l.insert(0,v)\n",
        "\n",
        "def pop(l):\n",
        "    l.pop(0)"
      ]
    },
    {
      "cell_type": "code",
      "execution_count": 35,
      "id": "12069533",
      "metadata": {},
      "outputs": [
        {
          "data": {
            "text/plain": [
              "[4, 2, 1]"
            ]
          },
          "execution_count": 35,
          "metadata": {},
          "output_type": "execute_result"
        }
      ],
      "source": [
        "push (l, 1)\n",
        "push (l, 2)\n",
        "push (l, 4)\n",
        "\n",
        "l"
      ]
    },
    {
      "cell_type": "code",
      "execution_count": 36,
      "id": "1e142a56",
      "metadata": {},
      "outputs": [
        {
          "data": {
            "text/plain": [
              "[2, 1]"
            ]
          },
          "execution_count": 36,
          "metadata": {},
          "output_type": "execute_result"
        }
      ],
      "source": [
        "pop (l)\n",
        "\n",
        "l"
      ]
    },
    {
      "cell_type": "markdown",
      "id": "76d16359",
      "metadata": {},
      "source": [
        "## Queue\n",
        "\n",
        "-   A queue contains zero or more items\n",
        "\n",
        "    -   Items are added at the rear of the queue, called *enqueue*\n",
        "\n",
        "    -   Items are removed from the front of the queue, called *dequeing*\n",
        "\n",
        "-   Items come out of the queue in the order they were added\n",
        "\n",
        "    -   We call this “first-in-first-out” (FIFO) behavior ... like a pile\n",
        "\n",
        "-   2 minutes: is it faster to use the front or back of a Python list to\n",
        "    implement a queue? What is the Big-O for stack operations under each\n",
        "    choice?"
      ]
    },
    {
      "cell_type": "markdown",
      "id": "2c330f21",
      "metadata": {},
      "source": [
        "# Searching\n",
        "\n",
        "## Motivating Example\n",
        "\n",
        "-   You want to develop a ML method to search through a video to figure\n",
        "    out when an bike is stolen.\n",
        "\n",
        "-   You could start from the beginning of your video feed and run your\n",
        "    ML method on each frame until you the bike is not in the frame.\n",
        "\n",
        "    -   This would take $O(n)$, probably a long time since you’re using\n",
        "        ML\n",
        "\n",
        "-   What if we started halfway through? If the bike was there, then\n",
        "    break the remaining video in half and check again. If the bike\n",
        "    wasn’t there, then break the previous part of the video in half and\n",
        "    check again.\n",
        "\n",
        "    -   This is *binary search*"
      ]
    },
    {
      "cell_type": "markdown",
      "id": "975c6338",
      "metadata": {},
      "source": [
        "## Binary Versus Linear Search\n",
        "\n",
        "-   How many steps does binary searching through 100 numbers take?\n",
        "    10,000?\n",
        "\n",
        "    -   We can generalize this as $O(\\text{log}n)$\n",
        "\n",
        "-   What is the big-O of linear searching through 100 numbers? 10,000?\n",
        "\n",
        "    -   $O(n)$\n",
        "\n",
        "-   Notice binary search requires the list to be sorted in advance.\n",
        "\n",
        "    -   We implicitly assumed this in the bike theft example (time is\n",
        "        “sorted”)"
      ]
    },
    {
      "cell_type": "markdown",
      "id": "6351382d",
      "metadata": {},
      "source": [
        "# Sorting\n",
        "\n",
        "## Selection Sort\n",
        "\n",
        "-   Suppose you want to sort prices of all fruits at a supermarket from\n",
        "    lowest to highest\n",
        "\n",
        "-   You go through the list, find the item with the lowest price then\n",
        "    place it on top, then find the second lowest price and place it\n",
        "    second, etc.\n",
        "\n",
        "    -   You will end up with a sorted list!\n",
        "\n",
        "-   To find the lowest price, you need to traverse the entire list. You\n",
        "    must do this $n$ times until there are no more items.\n",
        "\n",
        "    -   This takes $O(n^2)$ time\n",
        "\n",
        "## Insertion Sort\n",
        "\n",
        "-   Compare the current item to its predecessor. If the item is smaller\n",
        "    than its predecessor, compare it to the items before. Move the\n",
        "    greater items one position up to make space for the swapped item.\n",
        "\n",
        "-   You need to traverse the list once for each item in the list, so the\n",
        "    Big-O is $O(n^2)$.\n",
        "\n",
        "![](./images/insertion_sort.png)\n"
      ]
    },
    {
      "cell_type": "markdown",
      "id": "5f630840",
      "metadata": {},
      "source": [
        "## Live Coding:\n",
        "\n",
        "The *h-index* is defined by Wikipedia as the maximum value of $h$ such\n",
        "that the given researcher has published at least $h$ papers that have\n",
        "each been cited at least $h$ times.\n",
        "\n",
        "Given a list of integers representing a researcher. Each index is their\n",
        "$ith$ publication and the value at the $ith$ index is the number of\n",
        "citation. Calculate the h-index of that researcher.\n",
        "\n",
        "### Example\n",
        "\n",
        "[1] From https://www.teach.cs.toronto.edu/~csc148h/winter/notes/"
      ]
    },
    {
      "cell_type": "code",
      "execution_count": 38,
      "id": "878f6433",
      "metadata": {},
      "outputs": [
        {
          "data": {
            "text/plain": [
              "2"
            ]
          },
          "execution_count": 38,
          "metadata": {},
          "output_type": "execute_result"
        }
      ],
      "source": [
        "# Live Code\n",
        "\n",
        "lst = [2 ,2, 5, 6]\n",
        "\n",
        "def h_index (l):\n",
        "    count = 0\n",
        "    for i in reversed(range(1 , len(l)+1)):\n",
        "        for citation in l:\n",
        "            if citation >= i:\n",
        "                count += 1\n",
        "            if count == i:\n",
        "                return i\n",
        "        count = 0\n",
        "    return 0\n",
        "\n",
        "h_index(lst)\n",
        "\n",
        "# O (n^2)\n"
      ]
    },
    {
      "cell_type": "code",
      "execution_count": 3,
      "id": "7350459b",
      "metadata": {},
      "outputs": [
        {
          "data": {
            "text/plain": [
              "{'key1': 'answer1', 'key2': 'answer 2'}"
            ]
          },
          "execution_count": 3,
          "metadata": {},
          "output_type": "execute_result"
        }
      ],
      "source": [
        "# Dictionary\n",
        "\n",
        "d = {}\n",
        "\n",
        "d['key1'] = \"answer1\"\n",
        "d['key2'] = 'answer 2'\n",
        "\n",
        "d"
      ]
    },
    {
      "cell_type": "code",
      "execution_count": 4,
      "id": "2ec2136c",
      "metadata": {},
      "outputs": [
        {
          "data": {
            "text/plain": [
              "'answer1'"
            ]
          },
          "execution_count": 4,
          "metadata": {},
          "output_type": "execute_result"
        }
      ],
      "source": [
        "d['key1']"
      ]
    },
    {
      "cell_type": "code",
      "execution_count": 6,
      "id": "529d1dd9",
      "metadata": {},
      "outputs": [
        {
          "data": {
            "text/plain": [
              "{'key1': 'anser3', 'key2': 'answer 2'}"
            ]
          },
          "execution_count": 6,
          "metadata": {},
          "output_type": "execute_result"
        }
      ],
      "source": [
        "d['key1'] = 'anser3'\n",
        "\n",
        "d"
      ]
    },
    {
      "cell_type": "code",
      "execution_count": 7,
      "id": "1a71a867",
      "metadata": {},
      "outputs": [
        {
          "data": {
            "text/plain": [
              "{'key2': 'answer 2'}"
            ]
          },
          "execution_count": 7,
          "metadata": {},
          "output_type": "execute_result"
        }
      ],
      "source": [
        "d.pop('key1')\n",
        "\n",
        "d"
      ]
    },
    {
      "cell_type": "code",
      "execution_count": null,
      "id": "623a2554",
      "metadata": {},
      "outputs": [],
      "source": [
        "# In Python, a disctionary is the implementation of a Map"
      ]
    },
    {
      "cell_type": "code",
      "execution_count": 17,
      "id": "fd88bcec",
      "metadata": {},
      "outputs": [
        {
          "name": "stdout",
          "output_type": "stream",
          "text": [
            "2\n",
            "2\n",
            "5\n",
            "6\n"
          ]
        }
      ],
      "source": [
        "# Iterable\n",
        "lst = [2,2,5,6]\n",
        "\n",
        "iterable = iter(lst)\n",
        "\n",
        "print (next(iterable))\n",
        "print (next(iterable))\n",
        "print (next(iterable))\n",
        "print (next(iterable))\n"
      ]
    },
    {
      "cell_type": "code",
      "execution_count": null,
      "id": "16c7710b",
      "metadata": {},
      "outputs": [],
      "source": [
        "# Implementing a set ADT using a List data structure\n",
        "\n",
        "def get_size(l):\n",
        "    return len(l)\n",
        "\n",
        "def insert_a_value (l,value):\n",
        "    if value not in l:\n",
        "        l.append(value)\n",
        "\n",
        "def remove_a_value (l, value):\n",
        "    l.remove(value)\n"
      ]
    },
    {
      "cell_type": "code",
      "execution_count": null,
      "id": "280b1e0e",
      "metadata": {},
      "outputs": [],
      "source": [
        "# Iterable\n",
        "lst = [2,2,5,6]\n"
      ]
    },
    {
      "cell_type": "markdown",
      "id": "7c3265c3-d522-4c73-8f61-8ac240af5395",
      "metadata": {},
      "source": [
        "# Hash map, hash table (Python dictionary), hash functions\n",
        "\n",
        "## Motivating Example\n",
        "\n",
        "-   Recall from the first lecture that searching in a Python set took\n",
        "    (basically) 0 seconds\n",
        "\n",
        "    -   How was this achieved?\n",
        "\n",
        "    -   Binary search only has $O(\\text{log}n)$ time, so there must be\n",
        "        something else\n",
        "\n",
        "-   To achieve $O(1)$ time, we need something that immediately knows the\n",
        "    where/what the item is.\n",
        "\n",
        "    -   This is the purpose of *hash functions*\n",
        "\n",
        "## Hash Functions\n",
        "\n",
        "-   A hash function is a function where you enter a string and it\n",
        "    returns an integer\n",
        "\n",
        "    -   Python objects have hash"
      ]
    },
    {
      "cell_type": "code",
      "execution_count": 41,
      "id": "92fbc341",
      "metadata": {},
      "outputs": [
        {
          "data": {
            "text/plain": [
              "-148728254243217725"
            ]
          },
          "execution_count": 41,
          "metadata": {},
          "output_type": "execute_result"
        }
      ],
      "source": [
        "hash(\"DS 4 Life\")\n",
        "\n",
        "# note: for security reasons, every time we reset the kernel the hash generated will change"
      ]
    },
    {
      "cell_type": "markdown",
      "id": "c5852497",
      "metadata": {},
      "source": [
        "-   There are two requirements for a hash function\n",
        "\n",
        "    -   It needs to be consistent. For instance, if you enter “UofT” and\n",
        "        get “1827”, then every time you enter “UofT” you should get\n",
        "        “1827”\n",
        "\n",
        "    -   It maps different words to different numbers. Each string has a\n",
        "        unique hash.\n",
        "\n",
        "## Using Hash Functions: Example\n",
        "\n",
        "-   Suppose you have a grocery store catalog with prices and barcodes.\n",
        "    When you scan an item at checkout, you want it to instantly return\n",
        "    the price.\n",
        "\n",
        "-   You can put each barcode into a hash function.\n",
        "\n",
        "    -   Let’s say barcode “1234” *hashes* to “1” and “2” hashes to\n",
        "        “9876”\n",
        "\n",
        "    -   We store the price of item “1234” at address “1”. Store the\n",
        "        price of item “4321” at address “2”\n",
        "\n",
        "    -   We say the price at “1” is the *hash value* of “1”\n",
        "\n",
        "-   If there are 8 items sold at the store, then the hash function will\n",
        "    only return integers from 1 to 8\n",
        "\n",
        "    -   The size of the hash table is often referred to as its number of\n",
        "        bins or slots.\n",
        "\n",
        "    -   Thus, the hash function depends on the array\n",
        "\n",
        "-   This implementation is called a *hash table*\n",
        "\n",
        "    -   The hash table is basically a list of lists, and the hash\n",
        "        function maps an object to its location in the outer list."
      ]
    },
    {
      "cell_type": "code",
      "execution_count": 53,
      "id": "ffd1d28f",
      "metadata": {},
      "outputs": [
        {
          "name": "stdout",
          "output_type": "stream",
          "text": [
            "4\n",
            "8\n",
            "5\n"
          ]
        }
      ],
      "source": [
        "l = [0,0,0,0,0,0,0,0,0]\n",
        "\n",
        "def my_hash_function (s):\n",
        "    return hash(s)%10 \n",
        "\n",
        "# \n",
        "# %10 because the 'l' can have 10 elements ... if we have 20 than we will have to use %20\n",
        "# %10 also means that there is a 10% chance of 2 strings have the same hash index .. this is an example of colision\n",
        "#   there are algorithms to deal with collisions\n",
        "#\n",
        "\n",
        "print (my_hash_function(\"eggs\"))\n",
        "l[my_hash_function(\"eggs\")] = 3.50\n",
        "\n",
        "print (my_hash_function(\"bananas\"))\n",
        "l[my_hash_function(\"bananas\")] = 1.44\n",
        "\n",
        "print (my_hash_function(\"apples\"))\n",
        "l[my_hash_function(\"apples\")] = 3.00\n",
        "\n"
      ]
    },
    {
      "cell_type": "code",
      "execution_count": 54,
      "id": "7bf0715f",
      "metadata": {},
      "outputs": [
        {
          "data": {
            "text/plain": [
              "[0, 0, 0, 0, 3.5, 3.0, 0, 0, 1.44]"
            ]
          },
          "execution_count": 54,
          "metadata": {},
          "output_type": "execute_result"
        }
      ],
      "source": [
        "l\n"
      ]
    },
    {
      "cell_type": "markdown",
      "id": "e5bb7fe3",
      "metadata": {},
      "source": [
        "## Python’s Hash Tables: `dict`\n",
        "\n",
        "-   You will likely never implement a hash table yourself, most\n",
        "    languages have an implementation for has tables.\n",
        "\n",
        "    -   In Python, this is the `dict` class\n",
        "\n",
        "-   Dictionaries have keys and values (barcodes and prices)\n",
        "\n",
        "-   Dictionaries have really good performance. Search, insert, or delete\n",
        "    item are all are $O(1)$ in the average case.\n",
        "\n",
        "    -   Average case assumes you have a “good” hash function that avoids\n",
        "        *collisions*. You can read more about collisions in the\n",
        "        textbooks.\n",
        "\n",
        "    -   The worst case of Python dictionaries for search, insert, and\n",
        "        delete is $O(n)$.\n",
        "\n",
        "-   Recall Python dictionaries don’t allow duplicate keys, that is\n",
        "    because has hashes must be unique!"
      ]
    },
    {
      "cell_type": "code",
      "execution_count": null,
      "id": "4d0d93bc",
      "metadata": {},
      "outputs": [],
      "source": []
    },
    {
      "cell_type": "markdown",
      "id": "5e90a472-56d3-43ec-ad80-c348ccf52c6d",
      "metadata": {},
      "source": [
        "## Python `set`\n",
        "\n",
        "-   Recall during the first lecture, we showcased that Python’s set\n",
        "    search was much faster than list search\n",
        "\n",
        "-   This is because Python’s set implements a hash function to store its\n",
        "    values\n",
        "\n",
        "# Recommended Problems and References\n"
      ]
    },
    {
      "cell_type": "markdown",
      "id": "0e7cbc95",
      "metadata": {},
      "source": [
        "## Recommended Problems\n",
        "\n",
        "-   Bhargava: Chapter 5\n",
        "\n",
        "    -   5.1 to 5.4\n",
        "\n",
        "    -   Read pages 79 to 86 on the use cases of hash functions\n",
        "\n",
        "-   Additional\n",
        "\n",
        "    -   Give examples of 2 situations to use a queue and 2 situations to\n",
        "        use a stack\n",
        "\n",
        "    -   In Python, code a `stack` class with `is_empty`, `push`, and\n",
        "        `pop` methods using the end of a Python list as the top of the\n",
        "        stack. Bonus: Compare the run time of using the start of the\n",
        "        list versus the end of the list as the top of the stack using\n",
        "        the `timeit` library!\n",
        "\n",
        "    -   In Python, code a `binary_search` function.\n",
        "\n",
        "    -   In Python, code a `hash_table` that can hash 4 values."
      ]
    },
    {
      "cell_type": "markdown",
      "id": "f29b6b90",
      "metadata": {},
      "source": [
        "## References\n",
        "\n",
        "-   Bhargava, A. Y. (2016). *Grokking algorithms: An illustrated guide\n",
        "    for programmers and other curious people.* Manning. Chapter 5.\n",
        "\n",
        "-   Cormen, T. H. (Ed.). (2009). *Introduction to algorithms* (3rd ed).\n",
        "    MIT Press. Chapter 2, 10, 11.\n",
        "\n",
        "-   Horton, D., & Liu, D. (2023, November 19). *CSC148 Lecture Notes*.\n",
        "    https://www.teach.cs.toronto.edu/~csc148h/winter/notes/"
      ]
    }
  ],
  "metadata": {
    "kernelspec": {
      "display_name": "Python 3 (ipykernel)",
      "language": "python",
      "name": "python3"
    },
    "language_info": {
      "codemirror_mode": {
        "name": "ipython",
        "version": 3
      },
      "file_extension": ".py",
      "mimetype": "text/x-python",
      "name": "python",
      "nbconvert_exporter": "python",
      "pygments_lexer": "ipython3",
      "version": "3.9.15"
    }
  },
  "nbformat": 4,
  "nbformat_minor": 5
}
